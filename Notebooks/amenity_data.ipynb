{
 "cells": [
  {
   "cell_type": "code",
   "execution_count": 10,
   "id": "41b469ed-d22c-4f2e-b6ca-091050f75069",
   "metadata": {},
   "outputs": [
    {
     "name": "stdout",
     "output_type": "stream",
     "text": [
      "Requirement already satisfied: geopy in /opt/anaconda3/lib/python3.12/site-packages (2.4.1)\n",
      "Requirement already satisfied: geographiclib<3,>=1.52 in /opt/anaconda3/lib/python3.12/site-packages (from geopy) (2.0)\n"
     ]
    }
   ],
   "source": [
    "!pip install geopy"
   ]
  },
  {
   "cell_type": "code",
   "execution_count": 21,
   "id": "fabda0cd-256e-4d7d-bd93-8fd15c019737",
   "metadata": {},
   "outputs": [
    {
     "name": "stdout",
     "output_type": "stream",
     "text": [
      "                                        name            type   latitude  \\\n",
      "0                                  Tahlequah  ferry_terminal  47.332006   \n",
      "1                              Vashon Island  ferry_terminal  47.510915   \n",
      "2                                 Fauntleroy  ferry_terminal  47.523180   \n",
      "3                                    Unknown         Unknown  47.444876   \n",
      "4                  Navos West Seattle Campus        hospital  47.534445   \n",
      "..                                       ...             ...        ...   \n",
      "166                       Seattle University      university  47.609510   \n",
      "167                        Bastyr University         college  47.730662   \n",
      "168  Lake Washington Institute of Technology         college  47.705005   \n",
      "169              Seattle Children's Hospital        hospital  47.663096   \n",
      "170              Cornish College of the Arts         college  47.617484   \n",
      "\n",
      "      longitude  \n",
      "0   -122.507785  \n",
      "1   -122.463838  \n",
      "2   -122.396493  \n",
      "3   -121.426365  \n",
      "4   -122.366224  \n",
      "..          ...  \n",
      "166 -122.316832  \n",
      "167 -122.249185  \n",
      "168 -122.167330  \n",
      "169 -122.282949  \n",
      "170 -122.335711  \n",
      "\n",
      "[171 rows x 4 columns]\n",
      "Amenities data saved to 'king_county_amenities.csv'\n"
     ]
    }
   ],
   "source": [
    "import requests\n",
    "import pandas as pd\n",
    "\n",
    "# Overpass API URL\n",
    "overpass_url = \"http://overpass-api.de/api/interpreter\"\n",
    "\n",
    "# Query to fetch schools, hospitals, and parks in King County\n",
    "overpass_query = \"\"\"\n",
    "[out:json];\n",
    "area[\"name\"=\"United States\"][\"admin_level\"=\"2\"]->.country;\n",
    "area[\"name\"=\"Washington\"][\"admin_level\"=\"4\"]->.state;\n",
    "area[\"name\"=\"King County\"][\"admin_level\"=\"6\"]->.boundary;\n",
    "(\n",
    " // Hospital\n",
    "  node[\"amenity\"=\"hospital\"](area.boundary);\n",
    "  way[\"amenity\"=\"hospital\"](area.boundary);\n",
    "  relation[\"amenity\"=\"hospital\"](area.boundary);\n",
    "  \n",
    "  // Universities or Colleges\n",
    "  node[\"amenity\"=\"university\"](area.boundary);\n",
    "  way[\"amenity\"=\"university\"](area.boundary);\n",
    "  relation[\"amenity\"=\"university\"](area.boundary);\n",
    "  node[\"amenity\"=\"college\"](area.boundary);\n",
    "  way[\"amenity\"=\"college\"](area.boundary);\n",
    "  relation[\"amenity\"=\"college\"](area.boundary);\n",
    "  \n",
    "  // Transit Centers\n",
    "  node[\"public_transport\"=\"station\"](area.boundary);\n",
    "  way[\"public_transport\"=\"station\"](area.boundary);\n",
    "  relation[\"public_transport\"=\"station\"](area.boundary);\n",
    "\n",
    ");\n",
    "out center;\n",
    "\"\"\"\n",
    "\n",
    "# Initialize an empty list for amenities\n",
    "amenities = []\n",
    "\n",
    "try:\n",
    "    # Fetch data from Overpass API\n",
    "    response = requests.get(overpass_url, params={'data': overpass_query})\n",
    "    response.raise_for_status()  # Raise an exception for HTTP errors\n",
    "\n",
    "    # Parse the JSON response\n",
    "    amenities_data = response.json()\n",
    "\n",
    "    # Extract relevant details\n",
    "    amenities = [\n",
    "        {\n",
    "            'name': element['tags'].get('name', 'Unknown'),\n",
    "            'type': element['tags'].get('amenity', element['tags'].get('leisure', 'Unknown')),\n",
    "            'latitude': element['lat'] if element['type'] == 'node' else element['center']['lat'],\n",
    "            'longitude': element['lon'] if element['type'] == 'node' else element['center']['lon']\n",
    "        }\n",
    "        for element in amenities_data.get('elements', [])\n",
    "        if 'tags' in element\n",
    "    ]\n",
    "\n",
    "    # Create a DataFrame from the amenities list\n",
    "    amenities_df = pd.DataFrame(amenities)\n",
    "\n",
    "except requests.exceptions.RequestException as e:\n",
    "    print(f\"Network error: {e}\")\n",
    "    amenities_df = pd.DataFrame(amenities)\n",
    "except ValueError as e:\n",
    "    print(f\"Error parsing JSON: {e}\")\n",
    "    amenities_df = pd.DataFrame(amenities)\n",
    "\n",
    "print(amenities_df)\n",
    "\n",
    "# Save the results to a CSV file\n",
    "amenities_df.to_csv(\"king_county_amenities.csv\", index=False)\n",
    "print(\"Amenities data saved to 'king_county_amenities.csv'\")\n"
   ]
  },
  {
   "cell_type": "code",
   "execution_count": null,
   "id": "a90fb7f4-119b-4be3-be93-e40b0a76a3b5",
   "metadata": {},
   "outputs": [],
   "source": []
  },
  {
   "cell_type": "code",
   "execution_count": null,
   "id": "246dfde9-25da-4d66-ab09-0afa8f76db1b",
   "metadata": {},
   "outputs": [],
   "source": []
  },
  {
   "cell_type": "code",
   "execution_count": null,
   "id": "4b36f966-2471-475a-99be-d1d838965e0d",
   "metadata": {},
   "outputs": [],
   "source": []
  },
  {
   "cell_type": "code",
   "execution_count": null,
   "id": "530ac97b-509a-48ce-a0de-33c3f322f79a",
   "metadata": {},
   "outputs": [],
   "source": []
  },
  {
   "cell_type": "code",
   "execution_count": null,
   "id": "82af8225-df48-4f95-a8d8-10d2ac3b05e6",
   "metadata": {},
   "outputs": [],
   "source": []
  }
 ],
 "metadata": {
  "kernelspec": {
   "display_name": "Python 3 (ipykernel)",
   "language": "python",
   "name": "python3"
  },
  "language_info": {
   "codemirror_mode": {
    "name": "ipython",
    "version": 3
   },
   "file_extension": ".py",
   "mimetype": "text/x-python",
   "name": "python",
   "nbconvert_exporter": "python",
   "pygments_lexer": "ipython3",
   "version": "3.12.4"
  }
 },
 "nbformat": 4,
 "nbformat_minor": 5
}
